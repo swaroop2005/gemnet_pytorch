{
 "cells": [
  {
   "cell_type": "markdown",
   "metadata": {},
   "source": [
    "# GemNet (OC20) Training on Google Colab\n",
    "\n",
    "This notebook sets up the environment and runs training for the [GemNet PyTorch (OC20)](https://github.com/swaroop2005/gemnet_pytorch) model.\n",
    "\n",
    "Modify the cell with your LMDB dataset paths and config as needed."
   ]
  },
  {
   "cell_type": "code",
   "metadata": {},
   "source": [
    "# --- 1. Clone your repository (if not already in Colab) ---\n",
    "!git clone https://github.com/swaroop2005/gemnet_pytorch.git\n",
    "%cd gemnet_pytorch\n"
   ],
   "execution_count": null,
   "outputs": []
  },
  {
   "cell_type": "code",
   "metadata": {},
   "source": [
    "# --- 2. Install requirements ---\n",
    "# PyTorch & CUDA (use the pre-installed Colab torch if possible)\n",
    "# If torch is not compatible, uncomment the next line:\n",
    "# !pip install torch==2.0.1+cu118 --extra-index-url https://download.pytorch.org/whl/cu118\n",
    "\n",
    "# PyTorch Geometric ecosystem\n",
    "!pip install torch-scatter==2.1.1 torch-sparse==0.6.17 torch-cluster==1.6.1 torch-geometric==2.3.1\n",
    "# Core dependencies\n",
    "!pip install -r requirements.txt\n"
   ],
   "execution_count": null,
   "outputs": []
  },
  {
   "cell_type": "code",
   "metadata": {},
   "source": [
    "# --- 3. Mount Google Drive (if your LMDB data or output is on Drive) ---\n",
    "from google.colab import drive\n",
    "drive.mount('/content/drive')\n",
    "# After mounting, you can access your LMDB files via '/content/drive/MyDrive/...'\n"
   ],
   "execution_count": null,
   "outputs": []
  },
  {
   "cell_type": "code",
   "metadata": {},
   "source": [
    "# --- 4. (Optional) Edit config.yaml for your data paths ---\n",
    "# If needed, update the LMDB paths and training parameters in config.yaml\n",
    "\n",
    "# Example: Editing config.yaml using Python\n",
    "import yaml\n",
    "with open('config.yaml', 'r') as f:\n",
    "    cfg = yaml.safe_load(f)\n",
    "\n",
    "# This is just an example. Set your own paths:\n",
    "cfg['dataset'] = '/content/drive/MyDrive/OC20/is2re/100k_extracted/is2res_train_val_test_lmdbs/data/is2re/100k/train/data.lmdb'\n",
    "cfg['val_dataset'] = '/content/drive/MyDrive/OC20/val_id/is2res_train_val_test_lmdbs/data/is2re/all/val_id/data.lmdb'\n",
    "\n",
    "with open('config.yaml', 'w') as f:\n",
    "    yaml.dump(cfg, f)\n",
    "\n",
    "print('Updated config.yaml:')\n",
    "print(cfg)\n"
   ],
   "execution_count": null,
   "outputs": []
  },
  {
   "cell_type": "code",
   "metadata": {},
   "source": [
    "# --- 5. Run training ---\n",
    "# You can adjust the --config, --outdir, etc. as necessary\n",
    "!python train_is2re.py --config config.yaml --outdir runs_is2re\n"
   ],
   "execution_count": null,
   "outputs": []
  },
  {
   "cell_type": "code",
   "metadata": {},
   "source": [
    "# --- 6. (Optional) View training logs ---\n",
    "import pandas as pd\n",
    "log = pd.read_csv('runs_is2re/log.csv')\n",
    "log.plot(x='epoch', y=['train_mae', 'val_mae'], grid=True, title='Training/Validation MAE')\n"
   ],
   "execution_count": null,
   "outputs": []
  },
  {
   "cell_type": "markdown",
   "metadata": {},
   "source": [
    "## Tips\n",
    "* If you see CUDA out-of-memory errors, try reducing `batch_size` in `config.yaml`.\n",
    "* To resume from a checkpoint, use `--resume runs_is2re/last.pt`.\n",
    "* Outputs and checkpoints will be saved in the `runs_is2re` directory.\n",
    "\n",
    "---\n",
    "Happy training! 🚀"
   ]
  }
 ],
 "metadata": {
  "kernelspec": {
   "display_name": "Python 3",
   "language": "python",
   "name": "python3"
  },
  "language_info": {
   "name": "python"
  }
 },
 "nbformat": 4,
 "nbformat_minor": 5
}
